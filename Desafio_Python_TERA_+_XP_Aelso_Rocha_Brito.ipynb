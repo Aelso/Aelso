{
  "nbformat": 4,
  "nbformat_minor": 0,
  "metadata": {
    "colab": {
      "name": "Desafio_Python_TERA_+_XP_Aelso_Rocha_Brito.ipynb",
      "provenance": [],
      "collapsed_sections": [],
      "include_colab_link": true
    },
    "kernelspec": {
      "name": "python3",
      "display_name": "Python 3"
    },
    "language_info": {
      "name": "python"
    }
  },
  "cells": [
    {
      "cell_type": "markdown",
      "metadata": {
        "id": "view-in-github",
        "colab_type": "text"
      },
      "source": [
        "<a href=\"https://colab.research.google.com/github/Aelso/Aelso/blob/main/Desafio_Python_TERA_%2B_XP_Aelso_Rocha_Brito.ipynb\" target=\"_parent\"><img src=\"https://colab.research.google.com/assets/colab-badge.svg\" alt=\"Open In Colab\"/></a>"
      ]
    },
    {
      "cell_type": "markdown",
      "metadata": {
        "id": "VLHfFRbPVEAh"
      },
      "source": [
        "# Desafio Python - TERA + XP\n",
        "\n",
        "Olá! Que bom que você veio!<br>\n",
        "**INSTRUÇÕES**\n",
        "- Leia com atenção os enunciados\n",
        "- Se estiver com dúvida veja se as dicas que colocamos podem te ajudar\n",
        "- Se continuar com dúvida não tenha receio de reassistir a aula ou procurar no Google (Ex: `Como selecionar o primeiro elemento de uma lista em Python`)\n",
        "- **Não** coloque apenas o resultado. (Ex: `cubo=512` ou `primeiro_elemento='Arroz'`). Queremos ver a sua resolução!"
      ]
    },
    {
      "cell_type": "markdown",
      "metadata": {
        "id": "_UrFO1rEVR1E"
      },
      "source": [
        "\n",
        "### EXEMPLO) Considere que a aresta deste cubo tem 8cm. Calcule o volume total dessa peça. Guarde o resultado na variável `cubo`.\n",
        "\n",
        "![image](https://upload.wikimedia.org/wikipedia/commons/thumb/7/78/Hexahedron.jpg/280px-Hexahedron.jpg)\n",
        "\n",
        "\n",
        "Dica: Volume de um cubo é sua aresta elevada a terceira potência."
      ]
    },
    {
      "cell_type": "code",
      "metadata": {
        "id": "dAHAPGZRU5Qs",
        "colab": {
          "base_uri": "https://localhost:8080/"
        },
        "outputId": "53e403e3-9f53-4cec-d7e5-03a411ef1a80"
      },
      "source": [
        "#Coloque sua resposta aqui\n",
        "cubo = 8**3\n",
        "cubo"
      ],
      "execution_count": null,
      "outputs": [
        {
          "output_type": "execute_result",
          "data": {
            "text/plain": [
              "512"
            ]
          },
          "metadata": {},
          "execution_count": 12
        }
      ]
    },
    {
      "cell_type": "markdown",
      "metadata": {
        "id": "EftNIMYlW0xz"
      },
      "source": [
        "\n",
        "### 1) Considere que o lado `a` deste retângulo tem 5cm e o lado `b`tem 8cm. Calcule a área total dessa peça. Guarde o resultado na variável `retangulo`.\n",
        "\n",
        "![image](https://upload.wikimedia.org/wikipedia/commons/3/3a/Rectangle.png)\n",
        "\n",
        "\n",
        "**Dica:** A área do retângulo é = `a * b`\n",
        "\n"
      ]
    },
    {
      "cell_type": "code",
      "metadata": {
        "id": "fpjmqw2nXm6C",
        "colab": {
          "base_uri": "https://localhost:8080/"
        },
        "outputId": "e3220847-ec41-4755-d2be-ed1553cad2cd"
      },
      "source": [
        "#Coloque sua resposta aqui\n",
        "a = 5\n",
        "b = 8\n",
        "retangulo = a*b\n",
        "\n",
        "print('A área total retângulo',retangulo,'cm2')"
      ],
      "execution_count": null,
      "outputs": [
        {
          "output_type": "stream",
          "name": "stdout",
          "text": [
            "A área total retângulo 40 cm2\n"
          ]
        }
      ]
    },
    {
      "cell_type": "markdown",
      "metadata": {
        "id": "9N4kTvJwXuYD"
      },
      "source": [
        "## Lista de compras\n",
        "Abaixo você encontrará a lista de compras que trabalharemos nos próximos exercícios.\n",
        "\n",
        "**Rode a célula contento a lista `lista_compras` antes de continuar**\n",
        "\n",
        "### Faça os exercícios de **2** a **5** com essa lista."
      ]
    },
    {
      "cell_type": "code",
      "metadata": {
        "id": "MMqmuyTqVfB5"
      },
      "source": [
        "#Rode essa célula\n",
        "\n",
        "lista_compras = ['Arroz', 'Feijão', 'Óleo', 'Sal', 'Açúcar','Café', 'Macarrão',\n",
        "                'Milho', 'Farinha de trigo','Leite', 'Manteiga', 'Ovos']"
      ],
      "execution_count": null,
      "outputs": []
    },
    {
      "cell_type": "markdown",
      "metadata": {
        "id": "eQiH-aHdYY9n"
      },
      "source": [
        "### 2) Guarde na variável `quinto_elemento` o quinto elemento da lista `lista_compras`\n",
        "\n",
        "**Dica:** Lembre-se. que o Python começa a contar à partir do zero"
      ]
    },
    {
      "cell_type": "code",
      "metadata": {
        "id": "VxePnqKhWUpY",
        "colab": {
          "base_uri": "https://localhost:8080/",
          "height": 35
        },
        "outputId": "3087ecbf-c8fa-4e23-c67a-3738e0dc2b7e"
      },
      "source": [
        "#Coloque sua resposta aqui\n",
        "lista_compras[4]\n"
      ],
      "execution_count": null,
      "outputs": [
        {
          "output_type": "execute_result",
          "data": {
            "application/vnd.google.colaboratory.intrinsic+json": {
              "type": "string"
            },
            "text/plain": [
              "'Açúcar'"
            ]
          },
          "metadata": {},
          "execution_count": 15
        }
      ]
    },
    {
      "cell_type": "markdown",
      "metadata": {
        "id": "aPyWPEosYx92"
      },
      "source": [
        "### 3) Guarde na variável `primeiros_itens` uma lista com os 6 primeiros itens da lista."
      ]
    },
    {
      "cell_type": "code",
      "metadata": {
        "id": "1hbvTd2jZB-H",
        "colab": {
          "base_uri": "https://localhost:8080/"
        },
        "outputId": "12ccb6d1-110c-4248-f86c-e98391ea2c07"
      },
      "source": [
        "#Coloque sua resposta aqui\n",
        "\n",
        "primeiros_itens = lista_compras[:6]\n",
        "print( 'Esse são os 6 primeiros itens da lista',primeiros_itens)"
      ],
      "execution_count": null,
      "outputs": [
        {
          "output_type": "stream",
          "name": "stdout",
          "text": [
            "Esse são os 6 primeiros itens da lista ['Arroz', 'Feijão', 'Óleo', 'Sal', 'Açúcar', 'Café']\n"
          ]
        }
      ]
    },
    {
      "cell_type": "markdown",
      "metadata": {
        "id": "_R7FpM-ebzKr"
      },
      "source": [
        "### 4) Insira na lista já existente `lista_compras` o item: `'Batata'`"
      ]
    },
    {
      "cell_type": "code",
      "metadata": {
        "id": "JagsapKMbyEJ"
      },
      "source": [
        "#Coloque sua resposta aqui\n",
        "\n",
        "lista_compras.append(\"Batata\")"
      ],
      "execution_count": null,
      "outputs": []
    },
    {
      "cell_type": "code",
      "metadata": {
        "colab": {
          "base_uri": "https://localhost:8080/"
        },
        "id": "XCJdmQuzFN-2",
        "outputId": "f105cb3f-6a90-4c51-c40c-15657c06dfa9"
      },
      "source": [
        "lista_compras"
      ],
      "execution_count": null,
      "outputs": [
        {
          "output_type": "execute_result",
          "data": {
            "text/plain": [
              "['Arroz',\n",
              " 'Feijão',\n",
              " 'Óleo',\n",
              " 'Sal',\n",
              " 'Açúcar',\n",
              " 'Café',\n",
              " 'Macarrão',\n",
              " 'Milho',\n",
              " 'Farinha de trigo',\n",
              " 'Leite',\n",
              " 'Manteiga',\n",
              " 'Ovos',\n",
              " 'Batata']"
            ]
          },
          "metadata": {},
          "execution_count": 18
        }
      ]
    },
    {
      "cell_type": "markdown",
      "metadata": {
        "id": "wFrIAHX2ed6u"
      },
      "source": [
        "### 5) Guarde na variável `quantidade_compras` a quantidade de elementos da lista `lista_compras`\n",
        "\n",
        "**Dica:** você pode utilizar a função `len()`"
      ]
    },
    {
      "cell_type": "code",
      "metadata": {
        "id": "0Xeg8iebedZl",
        "colab": {
          "base_uri": "https://localhost:8080/"
        },
        "outputId": "8da483ae-d7ba-414f-dbbe-f17ba3720046"
      },
      "source": [
        "#Coloque sua resposta aqui\n",
        "quantidade_compras = len(lista_compras)\n",
        "quantidade_compras"
      ],
      "execution_count": null,
      "outputs": [
        {
          "output_type": "execute_result",
          "data": {
            "text/plain": [
              "13"
            ]
          },
          "metadata": {},
          "execution_count": 19
        }
      ]
    },
    {
      "cell_type": "markdown",
      "metadata": {
        "id": "4D7_UovOcNf_"
      },
      "source": [
        "## Lista de preços\n",
        "Abaixo você encontrará uma lista de preços que trabalharemos nos próximos exercícios.\n",
        "\n",
        "**Rode a célula contento a lista `lista_precos` antes de continuar**\n",
        "\n",
        "### Faça os exercícios de **6** e **7** com essa lista."
      ]
    },
    {
      "cell_type": "code",
      "metadata": {
        "id": "Ot-96E3idKfq"
      },
      "source": [
        "#Rode essa célula\n",
        "\n",
        "lista_precos = [30.5, 20.2, 19.99, 9.99, 192.10, 81,10, 42.42]"
      ],
      "execution_count": null,
      "outputs": []
    },
    {
      "cell_type": "markdown",
      "metadata": {
        "id": "Dvz6sNYPeJXy"
      },
      "source": [
        "### 6) Guarde na variável `total` a soma total da lista `lista_precos`"
      ]
    },
    {
      "cell_type": "code",
      "metadata": {
        "id": "EIRuRIKtd6bp",
        "colab": {
          "base_uri": "https://localhost:8080/"
        },
        "outputId": "17a528de-eb6f-4de3-9bb8-2262b816c766"
      },
      "source": [
        "#Coloque sua resposta aqui\n",
        "\n",
        "total = sum(lista_precos)\n",
        "total"
      ],
      "execution_count": null,
      "outputs": [
        {
          "output_type": "execute_result",
          "data": {
            "text/plain": [
              "406.2"
            ]
          },
          "metadata": {},
          "execution_count": 21
        }
      ]
    },
    {
      "cell_type": "markdown",
      "metadata": {
        "id": "0kdbvC4shDpE"
      },
      "source": [
        "### 7) Guarde na variável `precos_dobro` uma nova lista que seja a lista `lista_precos` com seus elementos multiplicados por 2.\n",
        "\n",
        "**Dica:** utilize **list comprehension**"
      ]
    },
    {
      "cell_type": "code",
      "metadata": {
        "id": "B_YfYTQshVD4"
      },
      "source": [
        "#Coloque sua resposta aqui"
      ],
      "execution_count": null,
      "outputs": []
    },
    {
      "cell_type": "code",
      "metadata": {
        "colab": {
          "base_uri": "https://localhost:8080/"
        },
        "id": "re_BhtcHG_Eq",
        "outputId": "8ba72251-21dc-4fb9-843e-ca9d7dc54571"
      },
      "source": [
        "len(lista_precos)"
      ],
      "execution_count": null,
      "outputs": [
        {
          "output_type": "execute_result",
          "data": {
            "text/plain": [
              "8"
            ]
          },
          "metadata": {},
          "execution_count": 23
        }
      ]
    },
    {
      "cell_type": "markdown",
      "metadata": {
        "id": "dnt6wgchhqd3"
      },
      "source": [
        "### Dicionários\n",
        "\n",
        "A **Escala de Scoville** é usda para medir o grau de ardência das pimentas. Preparamos um dicionário com o nome da pimenta e sua respectiva ardência em unidades Scoville.\n",
        "\n",
        "**Rode a célula contento o dicionário de `pimentas` antes de continuar**\n",
        "\n",
        "### Faça os exercícios de **8** e **9** seguintes operações com o dicionário `pimentas`"
      ]
    },
    {
      "cell_type": "code",
      "metadata": {
        "id": "IAYEqNC3hqPP"
      },
      "source": [
        "#Rode essa célula\n",
        "pimentas = {\n",
        "    'Pimentão': 0,\n",
        "    'Pepperoncini': 300,\n",
        "    'Molho Tabasco Jalapenho': 700,\n",
        "    'Pimenta Anaheim': 750\t,\n",
        "    'Pimenta Poblano': 1250,\n",
        "    'Pimenta Rocotillo': 2000,\n",
        "    'Molho Tabasco': 3750,\n",
        "    'Pimenta Jalapeño': 5250,\n",
        "    'Wax Pepper': 7500,\n",
        "    'Molho Tabasco Habanero': 7500,\n",
        "    'Pimenta Dedo de Moça': 10000,\n",
        "    'Pimenta Serrano': 16500,\n",
        "    'Pimenta Malagueta': 75000,\n",
        "    'Jamaican Hot Pepper': 150000,\n",
        "    'Habanero Chili': 225000,\n",
        "    'Pimenta de Chili Scotch Bonnet': 225000,\n",
        "    'Habanero Chili Red Savina': 463500,\n",
        "    'Dorset Naga': 923000,\n",
        "    'Pimenta Naga Bhut Jolokia': 927500,\n",
        "    'Pimenta Infinity Chilli': 1000000,\n",
        "    'Pimenta Naga Viper': 1300000,\n",
        "    'Pimenta Trinidad Scorpion Butch T': 1604615,\n",
        "    'Vicnic-1313': 1820000,\n",
        "    'Carolina Reaper': 1884650\n",
        "}"
      ],
      "execution_count": null,
      "outputs": []
    },
    {
      "cell_type": "markdown",
      "metadata": {
        "id": "Io-cd2kFh0jA"
      },
      "source": [
        "### 8) Guarde na variável `quente` o valor de ardência da pimenta `Carolina Reaper`"
      ]
    },
    {
      "cell_type": "code",
      "metadata": {
        "id": "oEikopPRhwS5",
        "colab": {
          "base_uri": "https://localhost:8080/"
        },
        "outputId": "965d1974-cf57-455a-ad37-554f789b5377"
      },
      "source": [
        "#Coloque sua resposta aqui\n",
        "\n",
        "quente = (pimentas['Carolina Reaper'])\n",
        "quente"
      ],
      "execution_count": null,
      "outputs": [
        {
          "output_type": "execute_result",
          "data": {
            "text/plain": [
              "1884650"
            ]
          },
          "metadata": {},
          "execution_count": 25
        }
      ]
    },
    {
      "cell_type": "markdown",
      "metadata": {
        "id": "GAPvS9H7ivat"
      },
      "source": [
        "### 9) Insira no dicionário `pimentas` este novo par: `'Pimenta Caiena': 40000`\n",
        "**Atenção** não recrie o dicionário, apenas adicione o elemento no dicionário existente"
      ]
    },
    {
      "cell_type": "code",
      "metadata": {
        "id": "TfoliRNWi3ca",
        "colab": {
          "base_uri": "https://localhost:8080/"
        },
        "outputId": "aa2ec651-525a-45bc-e650-848304c1d473"
      },
      "source": [
        "#Coloque sua resposta aqui\n",
        "pimentas['Pimenta Caiena']='40000'\n",
        "pimentas"
      ],
      "execution_count": null,
      "outputs": [
        {
          "output_type": "execute_result",
          "data": {
            "text/plain": [
              "{'Carolina Reaper': 1884650,\n",
              " 'Dorset Naga': 923000,\n",
              " 'Habanero Chili': 225000,\n",
              " 'Habanero Chili Red Savina': 463500,\n",
              " 'Jamaican Hot Pepper': 150000,\n",
              " 'Molho Tabasco': 3750,\n",
              " 'Molho Tabasco Habanero': 7500,\n",
              " 'Molho Tabasco Jalapenho': 700,\n",
              " 'Pepperoncini': 300,\n",
              " 'Pimenta Anaheim': 750,\n",
              " 'Pimenta Caiena': '40000',\n",
              " 'Pimenta Dedo de Moça': 10000,\n",
              " 'Pimenta Infinity Chilli': 1000000,\n",
              " 'Pimenta Jalapeño': 5250,\n",
              " 'Pimenta Malagueta': 75000,\n",
              " 'Pimenta Naga Bhut Jolokia': 927500,\n",
              " 'Pimenta Naga Viper': 1300000,\n",
              " 'Pimenta Poblano': 1250,\n",
              " 'Pimenta Rocotillo': 2000,\n",
              " 'Pimenta Serrano': 16500,\n",
              " 'Pimenta Trinidad Scorpion Butch T': 1604615,\n",
              " 'Pimenta de Chili Scotch Bonnet': 225000,\n",
              " 'Pimentão': 0,\n",
              " 'Vicnic-1313': 1820000,\n",
              " 'Wax Pepper': 7500}"
            ]
          },
          "metadata": {},
          "execution_count": 28
        }
      ]
    },
    {
      "cell_type": "markdown",
      "metadata": {
        "id": "bXI8ey3GxGDR"
      },
      "source": [
        "## Funções e condicionais\n",
        "\n",
        "### 10) Queremos selecionar palavras acima de 10 caracteres. Vamos criar uma função `calcular_palavra` que recebe uma palavra como parâmetro e tenha o retorno de acordo com a tabela abaixo\n",
        "\n",
        "| Tamanho da palavra (em caracteres)  | Retorno       |\n",
        "|-----------------|----------------|\n",
        "| Abaixo de 10  | Tente uma palavra maior |\n",
        "| Entre 11 e 20 | Boa palavra    |\n",
        "| Acima de 21   | Uau!|\n",
        "\n",
        "**Dica 1:** Neste exercício você precisa usar tanto `def` para construir função quanto o `if` para fazer a lógica condicional. (Ex.: `def calcular_palavra(palavra):`)\n",
        "\n",
        "**Dica 2:** Se a função que você constuiu está correta você terá o seguinte resultado para o código abaixo:<br>\n",
        "`calcular_palavra('eu')`<br>\n",
        "-- **`'Tente uma palavra maior'`**<br>\n",
        "\n",
        "`calcular_palavra('documentação')`<br>\n",
        "-- **`'Boa palavra'`**<br>\n",
        "\n",
        "**Dica 3:** Você pode usar a função `len()` para calcular o tamanho de uma palavra, Ex.:<br>\n",
        "`len('Python')`<br>\n",
        "-- **6** "
      ]
    },
    {
      "cell_type": "code",
      "metadata": {
        "id": "f4ZPwraEi1Xj",
        "colab": {
          "base_uri": "https://localhost:8080/"
        },
        "outputId": "c234fcd0-bf3c-4aab-a414-7321be106fcb"
      },
      "source": [
        "#Coloque sua resposta aqui\n",
        "palavra = len(input('Digite uma palavra '))\n",
        "\n",
        "def calcular_palavra(palavra):\n",
        "  if palavra < 10:\n",
        "    print('Tente uma palavra maior')\n",
        "  elif 10 >= palavra <= 20:\n",
        "    print('Boa palavra')\n",
        "  else:\n",
        "    print('Uau!')\n",
        "calcular_palavra(palavra)"
      ],
      "execution_count": null,
      "outputs": [
        {
          "output_type": "stream",
          "name": "stdout",
          "text": [
            "Digite uma palavra hffh\n",
            "Tente uma palavra maior\n"
          ]
        }
      ]
    },
    {
      "cell_type": "markdown",
      "metadata": {
        "id": "9dFl11id2sEY"
      },
      "source": [
        "### Com base na sua função faça os exercícios de **11** a **13**:\n",
        "\n",
        "### 11) Guarde na variável `palavra1` o retorno da função `calcular_palavra` para a palavra **educação**:"
      ]
    },
    {
      "cell_type": "code",
      "metadata": {
        "id": "9MvWmNDb2sYe",
        "colab": {
          "base_uri": "https://localhost:8080/"
        },
        "outputId": "dc107e06-9d90-420b-9a48-f333e4e8677b"
      },
      "source": [
        "#Coloque sua resposta aqui\n",
        "palavra =len(\"educação\")\n",
        "palavra1 = calcular_palavra(palavra)"
      ],
      "execution_count": null,
      "outputs": [
        {
          "output_type": "stream",
          "name": "stdout",
          "text": [
            "Tente uma palavra maior\n"
          ]
        }
      ]
    },
    {
      "cell_type": "markdown",
      "metadata": {
        "id": "r4DRPtAu4WOO"
      },
      "source": [
        "### 12) Guarde na variável `palavra2` o retorno da função `calcular_palavra` para a palavra **chave**:"
      ]
    },
    {
      "cell_type": "code",
      "metadata": {
        "id": "-GJuIN-z4hFW",
        "colab": {
          "base_uri": "https://localhost:8080/"
        },
        "outputId": "56af9eea-16b4-4ec3-e9d8-c71cd280045f"
      },
      "source": [
        "#Coloque sua resposta aqui\n",
        "palavra =len(\"chave\")\n",
        "palavra2 = calcular_palavra(palavra)\n"
      ],
      "execution_count": null,
      "outputs": [
        {
          "output_type": "stream",
          "name": "stdout",
          "text": [
            "Tente uma palavra maior\n"
          ]
        }
      ]
    },
    {
      "cell_type": "markdown",
      "metadata": {
        "id": "oKT3RvQP4hvI"
      },
      "source": [
        "### 13) Guarde na variável `palavra3` o retorno da função `calcular_palavra` para a palavra **inconstitucionalidades**:"
      ]
    },
    {
      "cell_type": "code",
      "metadata": {
        "id": "ZTnYO0iw4uB2",
        "colab": {
          "base_uri": "https://localhost:8080/",
          "height": 200
        },
        "outputId": "1dd82f98-540e-466c-fbf2-78ac3924faad"
      },
      "source": [
        "#Coloque sua resposta aqui\n",
        "palavra =len(\"inconstitucionalidades\")\n",
        "palavra3 = calcular_palavra(palavra)"
      ],
      "execution_count": null,
      "outputs": [
        {
          "output_type": "error",
          "ename": "NameError",
          "evalue": "ignored",
          "traceback": [
            "\u001b[0;31m---------------------------------------------------------------------------\u001b[0m",
            "\u001b[0;31mNameError\u001b[0m                                 Traceback (most recent call last)",
            "\u001b[0;32m<ipython-input-1-e1bd98f5f100>\u001b[0m in \u001b[0;36m<module>\u001b[0;34m()\u001b[0m\n\u001b[1;32m      1\u001b[0m \u001b[0;31m#Coloque sua resposta aqui\u001b[0m\u001b[0;34m\u001b[0m\u001b[0;34m\u001b[0m\u001b[0;34m\u001b[0m\u001b[0m\n\u001b[1;32m      2\u001b[0m \u001b[0mpalavra\u001b[0m \u001b[0;34m=\u001b[0m\u001b[0mlen\u001b[0m\u001b[0;34m(\u001b[0m\u001b[0;34m\"inconstitucionalidades\"\u001b[0m\u001b[0;34m)\u001b[0m\u001b[0;34m\u001b[0m\u001b[0;34m\u001b[0m\u001b[0m\n\u001b[0;32m----> 3\u001b[0;31m \u001b[0mpalavra3\u001b[0m \u001b[0;34m=\u001b[0m \u001b[0mcalcular_palavra\u001b[0m\u001b[0;34m(\u001b[0m\u001b[0mpalavra\u001b[0m\u001b[0;34m)\u001b[0m\u001b[0;34m\u001b[0m\u001b[0;34m\u001b[0m\u001b[0m\n\u001b[0m",
            "\u001b[0;31mNameError\u001b[0m: name 'calcular_palavra' is not defined"
          ]
        }
      ]
    },
    {
      "cell_type": "markdown",
      "metadata": {
        "id": "21MgEzPL40tO"
      },
      "source": [
        "## Pandas\n",
        "#### Faça o download do `.csv` abaixo e faça a leitura dele no `pandas` guarde-a na variável `gorjetas`\n",
        "\n",
        "[Arquivo para download](https://drive.google.com/file/d/18f43p3FPmzRqN-I5S03U5pn6wdburrZQ/view?usp=sharing)\n",
        "\n",
        "**Dica 1:** Não se esqueça de importar a biblioteca pandas<br>\n",
        "**Dica 2:** Leia o material da aula de pandas para aprender como importar um arquivo para ser usado no Google Colab"
      ]
    },
    {
      "cell_type": "markdown",
      "metadata": {
        "id": "SdtI8xLv5Upe"
      },
      "source": [
        "### Faça os exercícios de **14** a **16** com o DataDrame `gorjetas`\n",
        "\n",
        "### 14) Guarde na variável `media_contas` o valor da média da colula **total**"
      ]
    },
    {
      "cell_type": "code",
      "metadata": {
        "id": "UOYsZR1l44ex"
      },
      "source": [
        "#Coloque sua resposta aqui\n",
        "import pandas as pd\n",
        "gorjetas = pd.read_csv('gorjeta.csv')\n",
        "gorjetas"
      ],
      "execution_count": null,
      "outputs": []
    },
    {
      "cell_type": "code",
      "metadata": {
        "id": "vFX3RChIT59i"
      },
      "source": [
        "media_contas = gorjetas['total'].mean()\n",
        "media_contas"
      ],
      "execution_count": null,
      "outputs": []
    },
    {
      "cell_type": "markdown",
      "metadata": {
        "id": "mYzQb1mw5ch8"
      },
      "source": [
        "### 15) Guarde na variável `max_tamanho` o maior valor da colula **tamanho**\n"
      ]
    },
    {
      "cell_type": "code",
      "metadata": {
        "id": "T5JF72aW5XD0"
      },
      "source": [
        "#Coloque sua resposta aqui\n",
        "\n",
        "max_tamanho = gorjetas['tamanho'].max()\n",
        "max_tamanho"
      ],
      "execution_count": null,
      "outputs": []
    },
    {
      "cell_type": "markdown",
      "metadata": {
        "id": "tS9pDw8m5hm8"
      },
      "source": [
        "### 16) Guarde na variável `min_gorjeta` o menor valor da colula **gorjeta**"
      ]
    },
    {
      "cell_type": "code",
      "metadata": {
        "id": "YwBWUNKw5iTZ"
      },
      "source": [
        "#Coloque sua resposta aqui\n",
        "min_gorjeta = gorjetas['gorjeta'].min()\n",
        "min_gorjeta"
      ],
      "execution_count": null,
      "outputs": []
    },
    {
      "cell_type": "markdown",
      "metadata": {
        "id": "UxqBG_il5tip"
      },
      "source": [
        "## Debugging\n",
        "### 17) Encontre e arrume o erro do código abaixo:"
      ]
    },
    {
      "cell_type": "code",
      "metadata": {
        "id": "e5LjSxJa5wfU"
      },
      "source": [
        "idades = {\n",
        "    'Michael Scott': 43,\n",
        "    'Pam Beesly': 24,\n",
        "    'Jim Halpert': 25\n",
        "}\n",
        "\n",
        "michael = f'Michael Scott tem {idades[\"Michael Scott\"]} anos de idade.'\n",
        "print(michael)"
      ],
      "execution_count": null,
      "outputs": []
    },
    {
      "cell_type": "code",
      "metadata": {
        "id": "2CRGNPfZ54MS"
      },
      "source": [
        ""
      ],
      "execution_count": null,
      "outputs": []
    }
  ]
}